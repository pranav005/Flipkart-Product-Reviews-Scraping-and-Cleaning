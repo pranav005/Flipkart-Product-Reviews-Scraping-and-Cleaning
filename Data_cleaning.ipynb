{
 "cells": [
  {
   "cell_type": "code",
   "execution_count": 109,
   "metadata": {},
   "outputs": [],
   "source": [
    "import requests\n",
    "from bs4 import BeautifulSoup\n",
    "products=[]\n",
    "reviews=[]\n",
    "url=[\"https://www.flipkart.com/samsung-guru-1200/product-reviews/itme6gz6jczu5ygz?pid=MOBDADKKAEHYYA3G&lid=LSTMOBDADKKAEHYYA3GKUU92J&marketplace=FLIPKART\",\"https://www.flipkart.com/samsung-metro-313-dual-sim/product-reviews/itmeu7kpzwu74ezu?pid=MOBEU7KPT3FFWJDJ&lid=LSTMOBEU7KPT3FFWJDJPHNFWC&marketplace=FLIPKART\",\"https://www.flipkart.com/samsung-galaxy-a21s-blue-64-gb/product-reviews/itmb0bd07306db00?pid=MOBFSFMJJBTXPTRR&lid=LSTMOBFSFMJJBTXPTRR4BE1KX&marketplace=FLIPKART\"]\n",
    "def url_to_transcript(url):\n",
    "    for i in range(len(url)):\n",
    "        page=requests.get(url[i])\n",
    "        soup=BeautifulSoup(page.content,'html.parser')\n",
    "        results=soup.find('div',class_=\"ooJZfD _2oZ8XT col-9-12\")\n",
    "        name=[p.text for p in soup.findAll('div',{\"class\":\"o9Xx3p _1_odLJ\"})]\n",
    "        text=[p.text for p in soup.findAll('div',{\"class\":\"_1PBCrt\"})]\n",
    "        reviews.append(text)\n",
    "        products.append(name)\n",
    "url_to_transcript(url)        "
   ]
  },
  {
   "cell_type": "code",
   "execution_count": 110,
   "metadata": {},
   "outputs": [
    {
     "name": "stdout",
     "output_type": "stream",
     "text": [
      "3\n"
     ]
    }
   ],
   "source": [
    "l=[]\n",
    "m=[]\n",
    "n=[]\n",
    "o=[]\n",
    "for i in reviews:\n",
    "    l.append(i)\n",
    "for i in products:\n",
    "    if type(i)==list:\n",
    "        for k in i:\n",
    "            m.append(k.strip().lower())\n",
    "print(len(l))   \n"
   ]
  },
  {
   "cell_type": "code",
   "execution_count": 111,
   "metadata": {},
   "outputs": [],
   "source": [
    "stripped_reviews=l"
   ]
  },
  {
   "cell_type": "code",
   "execution_count": 112,
   "metadata": {},
   "outputs": [],
   "source": [
    "#remove punctuations\n",
    "import string\n",
    "stripped_title=[]\n",
    "\n",
    "table =str.maketrans('', '', string.punctuation)\n",
    "stripped_title = [w.translate(table) for w in m]     "
   ]
  },
  {
   "cell_type": "code",
   "execution_count": 8,
   "metadata": {},
   "outputs": [
    {
     "name": "stderr",
     "output_type": "stream",
     "text": [
      "A subdirectory or file stripped_reviews already exists.\n"
     ]
    }
   ],
   "source": [
    "import pickle\n",
    "!mkdir stripped_reviews\n",
    "for i,c in enumerate(stripped_title):\n",
    "    with open('stripped_reviews/'+c+'.txt','wb') as file:\n",
    "        pickle.dump(stripped_reviews[i],file) "
   ]
  },
  {
   "cell_type": "code",
   "execution_count": 113,
   "metadata": {},
   "outputs": [],
   "source": [
    "import pickle\n",
    "data={}\n",
    "for i,c in enumerate(stripped_title):\n",
    "    with open('stripped_reviews/'+c+'.txt','rb') as file:\n",
    "        data[c]=pickle.load(file)"
   ]
  },
  {
   "cell_type": "code",
   "execution_count": 114,
   "metadata": {},
   "outputs": [],
   "source": [
    "def combine_text(text_list):\n",
    "    combined_text=' '.join(text_list)\n",
    "    return combined_text    "
   ]
  },
  {
   "cell_type": "code",
   "execution_count": 115,
   "metadata": {},
   "outputs": [],
   "source": [
    "data_combined={key:[combine_text(values)] for key,values in data.items()}"
   ]
  },
  {
   "cell_type": "code",
   "execution_count": 116,
   "metadata": {},
   "outputs": [
    {
     "data": {
      "text/html": [
       "<div>\n",
       "<style scoped>\n",
       "    .dataframe tbody tr th:only-of-type {\n",
       "        vertical-align: middle;\n",
       "    }\n",
       "\n",
       "    .dataframe tbody tr th {\n",
       "        vertical-align: top;\n",
       "    }\n",
       "\n",
       "    .dataframe thead th {\n",
       "        text-align: right;\n",
       "    }\n",
       "</style>\n",
       "<table border=\"1\" class=\"dataframe\">\n",
       "  <thead>\n",
       "    <tr style=\"text-align: right;\">\n",
       "      <th></th>\n",
       "      <th>stripped_reviews</th>\n",
       "    </tr>\n",
       "  </thead>\n",
       "  <tbody>\n",
       "    <tr>\n",
       "      <td>samsung galaxy a21s blue 64 gb reviews</td>\n",
       "      <td>5Simply awesomeOverall happy with the product.1. Battery backup is really good. It almost takes one and a half day to charge it again. Fast chargi...</td>\n",
       "    </tr>\n",
       "    <tr>\n",
       "      <td>samsung guru 1200 reviews</td>\n",
       "      <td>5Best Phone @Best PriceThis is My 2nd Phone as I use my iPhone for emails &amp; other stuff, but if you are looking for best quality, rough Handling, ...</td>\n",
       "    </tr>\n",
       "    <tr>\n",
       "      <td>samsung metro 313 dual sim reviews</td>\n",
       "      <td>5ExcellentGreat feature phone... simple to use... loaded with features. Great battery backup. Smooth keypad. Perfect reception and call quality. S...</td>\n",
       "    </tr>\n",
       "  </tbody>\n",
       "</table>\n",
       "</div>"
      ],
      "text/plain": [
       "                                                                                                                                                                             stripped_reviews\n",
       "samsung galaxy a21s blue 64 gb reviews  5Simply awesomeOverall happy with the product.1. Battery backup is really good. It almost takes one and a half day to charge it again. Fast chargi...\n",
       "samsung guru 1200 reviews               5Best Phone @Best PriceThis is My 2nd Phone as I use my iPhone for emails & other stuff, but if you are looking for best quality, rough Handling, ...\n",
       "samsung metro 313 dual sim reviews      5ExcellentGreat feature phone... simple to use... loaded with features. Great battery backup. Smooth keypad. Perfect reception and call quality. S..."
      ]
     },
     "execution_count": 116,
     "metadata": {},
     "output_type": "execute_result"
    }
   ],
   "source": [
    "import pandas as pd\n",
    "pd.set_option('max_colwidth',150)\n",
    "\n",
    "data_df=pd.DataFrame(data_combined,index=[0]).transpose()\n",
    "data_df.columns=['stripped_reviews']\n",
    "data_df=data_df.sort_index()\n",
    "data_df"
   ]
  },
  {
   "cell_type": "code",
   "execution_count": 117,
   "metadata": {},
   "outputs": [],
   "source": [
    "import re\n",
    "import string\n",
    "\n",
    "def clean_text_r1(txt):\n",
    "    txt=txt.lower()\n",
    "    txt=re.sub('\\[.*?\\]','',txt)\n",
    "    txt=re.sub('\\[%s]'% re.escape(string.punctuation),'',txt)\n",
    "    txt=re.sub('\\w*\\d\\w*','',txt)\n",
    "    return txt\n",
    "round1=lambda x:clean_text_r1(x)"
   ]
  },
  {
   "cell_type": "code",
   "execution_count": 118,
   "metadata": {},
   "outputs": [
    {
     "data": {
      "text/html": [
       "<div>\n",
       "<style scoped>\n",
       "    .dataframe tbody tr th:only-of-type {\n",
       "        vertical-align: middle;\n",
       "    }\n",
       "\n",
       "    .dataframe tbody tr th {\n",
       "        vertical-align: top;\n",
       "    }\n",
       "\n",
       "    .dataframe thead th {\n",
       "        text-align: right;\n",
       "    }\n",
       "</style>\n",
       "<table border=\"1\" class=\"dataframe\">\n",
       "  <thead>\n",
       "    <tr style=\"text-align: right;\">\n",
       "      <th></th>\n",
       "      <th>stripped_reviews</th>\n",
       "    </tr>\n",
       "  </thead>\n",
       "  <tbody>\n",
       "    <tr>\n",
       "      <td>samsung galaxy a21s blue 64 gb reviews</td>\n",
       "      <td>awesomeoverall happy with the product.. battery backup is really good. it almost takes one and a half day to charge it again. fast charging as we...</td>\n",
       "    </tr>\n",
       "    <tr>\n",
       "      <td>samsung guru 1200 reviews</td>\n",
       "      <td>phone @best pricethis is my  phone as i use my iphone for emails &amp; other stuff, but if you are looking for best quality, rough handling, strong b...</td>\n",
       "    </tr>\n",
       "    <tr>\n",
       "      <td>samsung metro 313 dual sim reviews</td>\n",
       "      <td>feature phone... simple to use... loaded with features. great battery backup. smooth keypad. perfect reception and call quality. so compact to ha...</td>\n",
       "    </tr>\n",
       "  </tbody>\n",
       "</table>\n",
       "</div>"
      ],
      "text/plain": [
       "                                                                                                                                                                             stripped_reviews\n",
       "samsung galaxy a21s blue 64 gb reviews   awesomeoverall happy with the product.. battery backup is really good. it almost takes one and a half day to charge it again. fast charging as we...\n",
       "samsung guru 1200 reviews                phone @best pricethis is my  phone as i use my iphone for emails & other stuff, but if you are looking for best quality, rough handling, strong b...\n",
       "samsung metro 313 dual sim reviews       feature phone... simple to use... loaded with features. great battery backup. smooth keypad. perfect reception and call quality. so compact to ha..."
      ]
     },
     "execution_count": 118,
     "metadata": {},
     "output_type": "execute_result"
    }
   ],
   "source": [
    "data_clean=pd.DataFrame(data_df.stripped_reviews.apply(round1))\n",
    "data_clean"
   ]
  },
  {
   "cell_type": "code",
   "execution_count": 124,
   "metadata": {},
   "outputs": [],
   "source": [
    "def clean_text_r2(txt):\n",
    "    txt=re.sub('[@''\"\"...,%]','',txt)\n",
    "    txt=re.sub('\\n','',txt)\n",
    "    #txt=re.sub('.','',txt)\n",
    "    return txt\n",
    "round2=lambda x: clean_text_r2(x)    "
   ]
  },
  {
   "cell_type": "code",
   "execution_count": 125,
   "metadata": {},
   "outputs": [
    {
     "data": {
      "text/html": [
       "<div>\n",
       "<style scoped>\n",
       "    .dataframe tbody tr th:only-of-type {\n",
       "        vertical-align: middle;\n",
       "    }\n",
       "\n",
       "    .dataframe tbody tr th {\n",
       "        vertical-align: top;\n",
       "    }\n",
       "\n",
       "    .dataframe thead th {\n",
       "        text-align: right;\n",
       "    }\n",
       "</style>\n",
       "<table border=\"1\" class=\"dataframe\">\n",
       "  <thead>\n",
       "    <tr style=\"text-align: right;\">\n",
       "      <th></th>\n",
       "      <th>stripped_reviews</th>\n",
       "    </tr>\n",
       "  </thead>\n",
       "  <tbody>\n",
       "    <tr>\n",
       "      <td>samsung galaxy a21s blue 64 gb reviews</td>\n",
       "      <td>awesomeoverall happy with the product battery backup is really good it almost takes one and a half day to charge it again fast charging as well d...</td>\n",
       "    </tr>\n",
       "    <tr>\n",
       "      <td>samsung guru 1200 reviews</td>\n",
       "      <td>phone best pricethis is my  phone as i use my iphone for emails &amp; other stuff but if you are looking for best quality rough handling strong batte...</td>\n",
       "    </tr>\n",
       "    <tr>\n",
       "      <td>samsung metro 313 dual sim reviews</td>\n",
       "      <td>feature phone simple to use loaded with features great battery backup smooth keypad perfect reception and call quality so compact to handle displ...</td>\n",
       "    </tr>\n",
       "  </tbody>\n",
       "</table>\n",
       "</div>"
      ],
      "text/plain": [
       "                                                                                                                                                                             stripped_reviews\n",
       "samsung galaxy a21s blue 64 gb reviews   awesomeoverall happy with the product battery backup is really good it almost takes one and a half day to charge it again fast charging as well d...\n",
       "samsung guru 1200 reviews                phone best pricethis is my  phone as i use my iphone for emails & other stuff but if you are looking for best quality rough handling strong batte...\n",
       "samsung metro 313 dual sim reviews       feature phone simple to use loaded with features great battery backup smooth keypad perfect reception and call quality so compact to handle displ..."
      ]
     },
     "execution_count": 125,
     "metadata": {},
     "output_type": "execute_result"
    }
   ],
   "source": [
    "data_clean2=pd.DataFrame(data_clean.stripped_reviews.apply(round2))\n",
    "data_clean2"
   ]
  },
  {
   "cell_type": "code",
   "execution_count": 126,
   "metadata": {},
   "outputs": [
    {
     "data": {
      "text/html": [
       "<div>\n",
       "<style scoped>\n",
       "    .dataframe tbody tr th:only-of-type {\n",
       "        vertical-align: middle;\n",
       "    }\n",
       "\n",
       "    .dataframe tbody tr th {\n",
       "        vertical-align: top;\n",
       "    }\n",
       "\n",
       "    .dataframe thead th {\n",
       "        text-align: right;\n",
       "    }\n",
       "</style>\n",
       "<table border=\"1\" class=\"dataframe\">\n",
       "  <thead>\n",
       "    <tr style=\"text-align: right;\">\n",
       "      <th></th>\n",
       "      <th>stripped_reviews</th>\n",
       "    </tr>\n",
       "  </thead>\n",
       "  <tbody>\n",
       "    <tr>\n",
       "      <td>samsung galaxy a21s blue 64 gb reviews</td>\n",
       "      <td>awesomeoverall happy with the product battery backup is really good it almost takes one and a half day to charge it again fast charging as well d...</td>\n",
       "    </tr>\n",
       "    <tr>\n",
       "      <td>samsung guru 1200 reviews</td>\n",
       "      <td>phone best pricethis is my  phone as i use my iphone for emails &amp; other stuff but if you are looking for best quality rough handling strong batte...</td>\n",
       "    </tr>\n",
       "    <tr>\n",
       "      <td>samsung metro 313 dual sim reviews</td>\n",
       "      <td>feature phone simple to use loaded with features great battery backup smooth keypad perfect reception and call quality so compact to handle displ...</td>\n",
       "    </tr>\n",
       "  </tbody>\n",
       "</table>\n",
       "</div>"
      ],
      "text/plain": [
       "                                                                                                                                                                             stripped_reviews\n",
       "samsung galaxy a21s blue 64 gb reviews   awesomeoverall happy with the product battery backup is really good it almost takes one and a half day to charge it again fast charging as well d...\n",
       "samsung guru 1200 reviews                phone best pricethis is my  phone as i use my iphone for emails & other stuff but if you are looking for best quality rough handling strong batte...\n",
       "samsung metro 313 dual sim reviews       feature phone simple to use loaded with features great battery backup smooth keypad perfect reception and call quality so compact to handle displ..."
      ]
     },
     "execution_count": 126,
     "metadata": {},
     "output_type": "execute_result"
    }
   ],
   "source": [
    "#de emojify\n",
    "def deEmojify(text):\n",
    "    regrex_pattern = re.compile(pattern = \"[\"\n",
    "        u\"\\U0001F600-\\U0001F64F\"  # emoticons\n",
    "        u\"\\U0001F300-\\U0001F5FF\"  # symbols & pictographs\n",
    "        u\"\\U0001F680-\\U0001F6FF\"  # transport & map symbols\n",
    "        u\"\\U0001F1E0-\\U0001F1FF\"  # flags (iOS)\n",
    "                           \"]+\", flags = re.UNICODE)\n",
    "    return regrex_pattern.sub(r'',text)\n",
    "round2b=lambda x: deEmojify(x)\n",
    "\n",
    "data_clean2=pd.DataFrame(data_clean2.stripped_reviews.apply(round2b))\n",
    "data_clean2"
   ]
  },
  {
   "cell_type": "code",
   "execution_count": 127,
   "metadata": {},
   "outputs": [
    {
     "data": {
      "text/html": [
       "<div>\n",
       "<style scoped>\n",
       "    .dataframe tbody tr th:only-of-type {\n",
       "        vertical-align: middle;\n",
       "    }\n",
       "\n",
       "    .dataframe tbody tr th {\n",
       "        vertical-align: top;\n",
       "    }\n",
       "\n",
       "    .dataframe thead th {\n",
       "        text-align: right;\n",
       "    }\n",
       "</style>\n",
       "<table border=\"1\" class=\"dataframe\">\n",
       "  <thead>\n",
       "    <tr style=\"text-align: right;\">\n",
       "      <th></th>\n",
       "      <th>stripped_reviews</th>\n",
       "    </tr>\n",
       "  </thead>\n",
       "  <tbody>\n",
       "    <tr>\n",
       "      <td>samsung galaxy a21s blue 64 gb reviews</td>\n",
       "      <td>awesomeoverall happy with the product battery backup is really good it almost takes one and a half day to charge it again fast charging as well d...</td>\n",
       "    </tr>\n",
       "    <tr>\n",
       "      <td>samsung guru 1200 reviews</td>\n",
       "      <td>phone best pricethis is my  phone as i use my iphone for emails &amp; other stuff but if you are looking for best quality rough handling strong batte...</td>\n",
       "    </tr>\n",
       "    <tr>\n",
       "      <td>samsung metro 313 dual sim reviews</td>\n",
       "      <td>feature phone simple to use loaded with features great battery backup smooth keypad perfect reception and call quality so compact to handle displ...</td>\n",
       "    </tr>\n",
       "  </tbody>\n",
       "</table>\n",
       "</div>"
      ],
      "text/plain": [
       "                                                                                                                                                                             stripped_reviews\n",
       "samsung galaxy a21s blue 64 gb reviews   awesomeoverall happy with the product battery backup is really good it almost takes one and a half day to charge it again fast charging as well d...\n",
       "samsung guru 1200 reviews                phone best pricethis is my  phone as i use my iphone for emails & other stuff but if you are looking for best quality rough handling strong batte...\n",
       "samsung metro 313 dual sim reviews       feature phone simple to use loaded with features great battery backup smooth keypad perfect reception and call quality so compact to handle displ..."
      ]
     },
     "execution_count": 127,
     "metadata": {},
     "output_type": "execute_result"
    }
   ],
   "source": [
    "#Lemmatization\n",
    "import nltk\n",
    "#nltk.download('punkt')\n",
    "#nltk.download('wordnet')\n",
    "#nltk.download('stopwords')\n",
    "#nltk.download('averaged_perceptron_tagger')\n",
    "#w_tokenizer = nltk.tokenize.WhitespaceTokenizer()\n",
    "lemmatizer = nltk.stem.WordNetLemmatizer()\n",
    "\n",
    "def lemmatize_text(text):\n",
    "    return lemmatizer.lemmatize(text)\n",
    "round3=lambda x: lemmatize_text(x)\n",
    "data_clean3 = pd.DataFrame(data_clean2.stripped_reviews.apply(round3))\n",
    "data_clean3"
   ]
  },
  {
   "cell_type": "code",
   "execution_count": 128,
   "metadata": {},
   "outputs": [
    {
     "data": {
      "text/html": [
       "<div>\n",
       "<style scoped>\n",
       "    .dataframe tbody tr th:only-of-type {\n",
       "        vertical-align: middle;\n",
       "    }\n",
       "\n",
       "    .dataframe tbody tr th {\n",
       "        vertical-align: top;\n",
       "    }\n",
       "\n",
       "    .dataframe thead th {\n",
       "        text-align: right;\n",
       "    }\n",
       "</style>\n",
       "<table border=\"1\" class=\"dataframe\">\n",
       "  <thead>\n",
       "    <tr style=\"text-align: right;\">\n",
       "      <th></th>\n",
       "      <th>stripped_reviews</th>\n",
       "    </tr>\n",
       "  </thead>\n",
       "  <tbody>\n",
       "    <tr>\n",
       "      <td>samsung galaxy a21s blue 64 gb reviews</td>\n",
       "      <td>awesomeoverall happy with the product battery backup is really good it almost takes one and a half day to charge it again fast charging as well d...</td>\n",
       "    </tr>\n",
       "    <tr>\n",
       "      <td>samsung guru 1200 reviews</td>\n",
       "      <td>phone best pricethis is my  phone as i use my iphone for emails &amp; other stuff but if you are looking for best quality rough handling strong batte...</td>\n",
       "    </tr>\n",
       "    <tr>\n",
       "      <td>samsung metro 313 dual sim reviews</td>\n",
       "      <td>feature phone simple to use loaded with features great battery backup smooth keypad perfect reception and call quality so compact to handle displ...</td>\n",
       "    </tr>\n",
       "  </tbody>\n",
       "</table>\n",
       "</div>"
      ],
      "text/plain": [
       "                                                                                                                                                                             stripped_reviews\n",
       "samsung galaxy a21s blue 64 gb reviews   awesomeoverall happy with the product battery backup is really good it almost takes one and a half day to charge it again fast charging as well d...\n",
       "samsung guru 1200 reviews                phone best pricethis is my  phone as i use my iphone for emails & other stuff but if you are looking for best quality rough handling strong batte...\n",
       "samsung metro 313 dual sim reviews       feature phone simple to use loaded with features great battery backup smooth keypad perfect reception and call quality so compact to handle displ..."
      ]
     },
     "execution_count": 128,
     "metadata": {},
     "output_type": "execute_result"
    }
   ],
   "source": [
    "#remove Stopwords\n",
    "from nltk.corpus import stopwords \n",
    "from nltk.tokenize import word_tokenize \n",
    "\n",
    "stop_words = set(stopwords.words('english'))   \n",
    "\n",
    "def remove_stopwords(txt):\n",
    "    if txt not in stop_words:\n",
    "        return txt\n",
    "round4=lambda x: remove_stopwords(x)\n",
    "data_clean4=pd.DataFrame(data_clean3.stripped_reviews.apply(round4))\n",
    "data_clean4"
   ]
  },
  {
   "cell_type": "code",
   "execution_count": 129,
   "metadata": {},
   "outputs": [],
   "source": [
    "#corpus\n",
    "data_df.to_pickle('corpus.pkl')"
   ]
  },
  {
   "cell_type": "code",
   "execution_count": 130,
   "metadata": {},
   "outputs": [
    {
     "data": {
      "text/html": [
       "<div>\n",
       "<style scoped>\n",
       "    .dataframe tbody tr th:only-of-type {\n",
       "        vertical-align: middle;\n",
       "    }\n",
       "\n",
       "    .dataframe tbody tr th {\n",
       "        vertical-align: top;\n",
       "    }\n",
       "\n",
       "    .dataframe thead th {\n",
       "        text-align: right;\n",
       "    }\n",
       "</style>\n",
       "<table border=\"1\" class=\"dataframe\">\n",
       "  <thead>\n",
       "    <tr style=\"text-align: right;\">\n",
       "      <th></th>\n",
       "      <th>absolutely</th>\n",
       "      <th>abuse</th>\n",
       "      <th>actually</th>\n",
       "      <th>alappuzhasep</th>\n",
       "      <th>alipurduarsep</th>\n",
       "      <th>amazing</th>\n",
       "      <th>amoled</th>\n",
       "      <th>android</th>\n",
       "      <th>app</th>\n",
       "      <th>appearance</th>\n",
       "      <th>...</th>\n",
       "      <th>work</th>\n",
       "      <th>worked</th>\n",
       "      <th>working</th>\n",
       "      <th>world</th>\n",
       "      <th>worth</th>\n",
       "      <th>yeah</th>\n",
       "      <th>year</th>\n",
       "      <th>years</th>\n",
       "      <th>youtube</th>\n",
       "      <th>youvery</th>\n",
       "    </tr>\n",
       "  </thead>\n",
       "  <tbody>\n",
       "    <tr>\n",
       "      <td>samsung galaxy a21s blue 64 gb reviews</td>\n",
       "      <td>2</td>\n",
       "      <td>10</td>\n",
       "      <td>0</td>\n",
       "      <td>0</td>\n",
       "      <td>0</td>\n",
       "      <td>0</td>\n",
       "      <td>1</td>\n",
       "      <td>0</td>\n",
       "      <td>0</td>\n",
       "      <td>0</td>\n",
       "      <td>...</td>\n",
       "      <td>0</td>\n",
       "      <td>0</td>\n",
       "      <td>0</td>\n",
       "      <td>0</td>\n",
       "      <td>1</td>\n",
       "      <td>0</td>\n",
       "      <td>0</td>\n",
       "      <td>0</td>\n",
       "      <td>1</td>\n",
       "      <td>0</td>\n",
       "    </tr>\n",
       "    <tr>\n",
       "      <td>samsung guru 1200 reviews</td>\n",
       "      <td>0</td>\n",
       "      <td>10</td>\n",
       "      <td>0</td>\n",
       "      <td>0</td>\n",
       "      <td>0</td>\n",
       "      <td>1</td>\n",
       "      <td>0</td>\n",
       "      <td>1</td>\n",
       "      <td>1</td>\n",
       "      <td>0</td>\n",
       "      <td>...</td>\n",
       "      <td>0</td>\n",
       "      <td>1</td>\n",
       "      <td>1</td>\n",
       "      <td>1</td>\n",
       "      <td>0</td>\n",
       "      <td>0</td>\n",
       "      <td>1</td>\n",
       "      <td>1</td>\n",
       "      <td>0</td>\n",
       "      <td>1</td>\n",
       "    </tr>\n",
       "    <tr>\n",
       "      <td>samsung metro 313 dual sim reviews</td>\n",
       "      <td>0</td>\n",
       "      <td>10</td>\n",
       "      <td>1</td>\n",
       "      <td>1</td>\n",
       "      <td>1</td>\n",
       "      <td>0</td>\n",
       "      <td>0</td>\n",
       "      <td>0</td>\n",
       "      <td>0</td>\n",
       "      <td>1</td>\n",
       "      <td>...</td>\n",
       "      <td>1</td>\n",
       "      <td>0</td>\n",
       "      <td>0</td>\n",
       "      <td>0</td>\n",
       "      <td>0</td>\n",
       "      <td>1</td>\n",
       "      <td>0</td>\n",
       "      <td>0</td>\n",
       "      <td>0</td>\n",
       "      <td>0</td>\n",
       "    </tr>\n",
       "  </tbody>\n",
       "</table>\n",
       "<p>3 rows × 489 columns</p>\n",
       "</div>"
      ],
      "text/plain": [
       "                                        absolutely  abuse  actually  \\\n",
       "samsung galaxy a21s blue 64 gb reviews           2     10         0   \n",
       "samsung guru 1200 reviews                        0     10         0   \n",
       "samsung metro 313 dual sim reviews               0     10         1   \n",
       "\n",
       "                                        alappuzhasep  alipurduarsep  amazing  \\\n",
       "samsung galaxy a21s blue 64 gb reviews             0              0        0   \n",
       "samsung guru 1200 reviews                          0              0        1   \n",
       "samsung metro 313 dual sim reviews                 1              1        0   \n",
       "\n",
       "                                        amoled  android  app  appearance  ...  \\\n",
       "samsung galaxy a21s blue 64 gb reviews       1        0    0           0  ...   \n",
       "samsung guru 1200 reviews                    0        1    1           0  ...   \n",
       "samsung metro 313 dual sim reviews           0        0    0           1  ...   \n",
       "\n",
       "                                        work  worked  working  world  worth  \\\n",
       "samsung galaxy a21s blue 64 gb reviews     0       0        0      0      1   \n",
       "samsung guru 1200 reviews                  0       1        1      1      0   \n",
       "samsung metro 313 dual sim reviews         1       0        0      0      0   \n",
       "\n",
       "                                        yeah  year  years  youtube  youvery  \n",
       "samsung galaxy a21s blue 64 gb reviews     0     0      0        1        0  \n",
       "samsung guru 1200 reviews                  0     1      1        0        1  \n",
       "samsung metro 313 dual sim reviews         1     0      0        0        0  \n",
       "\n",
       "[3 rows x 489 columns]"
      ]
     },
     "execution_count": 130,
     "metadata": {},
     "output_type": "execute_result"
    }
   ],
   "source": [
    "#DTM\n",
    "from sklearn.feature_extraction.text import CountVectorizer\n",
    "\n",
    "cv=CountVectorizer(stop_words='english')\n",
    "data_cv=cv.fit_transform(data_clean4.stripped_reviews)\n",
    "data_dtm=pd.DataFrame(data_cv.toarray(),columns=cv.get_feature_names())\n",
    "data_dtm.index=data_clean4.index\n",
    "data_dtm"
   ]
  },
  {
   "cell_type": "code",
   "execution_count": 131,
   "metadata": {},
   "outputs": [],
   "source": [
    "data_dtm.to_pickle('dtm.pkl')"
   ]
  },
  {
   "cell_type": "code",
   "execution_count": null,
   "metadata": {},
   "outputs": [],
   "source": []
  }
 ],
 "metadata": {
  "kernelspec": {
   "display_name": "Python 3",
   "language": "python",
   "name": "python3"
  },
  "language_info": {
   "codemirror_mode": {
    "name": "ipython",
    "version": 3
   },
   "file_extension": ".py",
   "mimetype": "text/x-python",
   "name": "python",
   "nbconvert_exporter": "python",
   "pygments_lexer": "ipython3",
   "version": "3.7.4"
  }
 },
 "nbformat": 4,
 "nbformat_minor": 2
}
